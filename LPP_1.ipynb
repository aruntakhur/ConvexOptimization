{
  "nbformat": 4,
  "nbformat_minor": 0,
  "metadata": {
    "colab": {
      "name": "LPP_1.ipynb",
      "provenance": [],
      "authorship_tag": "ABX9TyOc2R36yRZfGJEzhthqU5VO",
      "include_colab_link": true
    },
    "kernelspec": {
      "name": "python3",
      "display_name": "Python 3"
    },
    "language_info": {
      "name": "python"
    }
  },
  "cells": [
    {
      "cell_type": "markdown",
      "metadata": {
        "id": "view-in-github",
        "colab_type": "text"
      },
      "source": [
        "<a href=\"https://colab.research.google.com/github/aruntakhur/ConvexOptimization/blob/main/LPP_1.ipynb\" target=\"_parent\"><img src=\"https://colab.research.google.com/assets/colab-badge.svg\" alt=\"Open In Colab\"/></a>"
      ]
    },
    {
      "cell_type": "code",
      "metadata": {
        "id": "3S95BxDnwn5_"
      },
      "source": [
        "from scipy.optimize import linprog"
      ],
      "execution_count": 19,
      "outputs": []
    },
    {
      "cell_type": "code",
      "metadata": {
        "id": "WoSi4XTyx3mF"
      },
      "source": [
        "obj = [6, 8]"
      ],
      "execution_count": 13,
      "outputs": []
    },
    {
      "cell_type": "code",
      "metadata": {
        "id": "kVvlM8_qyCk9"
      },
      "source": [
        "lhs_ineq = [[ 1,  2],[2,  1]]\n",
        "rhs_ineq = [6, 6]"
      ],
      "execution_count": 14,
      "outputs": []
    },
    {
      "cell_type": "code",
      "metadata": {
        "id": "T0qGDKgJyO_N"
      },
      "source": [
        "bnd = [(0, float(\"inf\")), (0, float(\"inf\"))]  # Bounds of x & y"
      ],
      "execution_count": 15,
      "outputs": []
    },
    {
      "cell_type": "code",
      "metadata": {
        "id": "i8Hm_ALAyalb"
      },
      "source": [
        "opt = linprog(c=obj, A_ub=lhs_ineq, b_ub=rhs_ineq,\n",
        "...               bounds=bnd,\n",
        "...               method=\"revised simplex\")"
      ],
      "execution_count": 18,
      "outputs": []
    },
    {
      "cell_type": "code",
      "metadata": {
        "colab": {
          "base_uri": "https://localhost:8080/"
        },
        "id": "tyjsVIH4ydOq",
        "outputId": "494d5fb2-866b-4c4f-bd4c-172291accb14"
      },
      "source": [
        "opt"
      ],
      "execution_count": 20,
      "outputs": [
        {
          "output_type": "execute_result",
          "data": {
            "text/plain": [
              "     con: array([], dtype=float64)\n",
              "     fun: 0.0\n",
              " message: 'Optimization terminated successfully.'\n",
              "     nit: 0\n",
              "   slack: array([6., 6.])\n",
              "  status: 0\n",
              " success: True\n",
              "       x: array([0., 0.])"
            ]
          },
          "metadata": {
            "tags": []
          },
          "execution_count": 20
        }
      ]
    }
  ]
}