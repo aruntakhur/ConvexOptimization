{
  "nbformat": 4,
  "nbformat_minor": 0,
  "metadata": {
    "colab": {
      "name": "LPP_1.ipynb",
      "provenance": [],
      "authorship_tag": "ABX9TyNQcuGofwZgg4WXr4eu8Oee",
      "include_colab_link": true
    },
    "kernelspec": {
      "name": "python3",
      "display_name": "Python 3"
    },
    "language_info": {
      "name": "python"
    }
  },
  "cells": [
    {
      "cell_type": "markdown",
      "metadata": {
        "id": "view-in-github",
        "colab_type": "text"
      },
      "source": [
        "<a href=\"https://colab.research.google.com/github/aruntakhur/ConvexOptimization/blob/main/LPP_1.ipynb\" target=\"_parent\"><img src=\"https://colab.research.google.com/assets/colab-badge.svg\" alt=\"Open In Colab\"/></a>"
      ]
    },
    {
      "cell_type": "code",
      "metadata": {
        "id": "3S95BxDnwn5_"
      },
      "source": [
        "from scipy.optimize import linprog"
      ],
      "execution_count": 5,
      "outputs": []
    },
    {
      "cell_type": "code",
      "metadata": {
        "id": "WoSi4XTyx3mF"
      },
      "source": [
        "obj = [-1, -2]"
      ],
      "execution_count": 6,
      "outputs": []
    },
    {
      "cell_type": "code",
      "metadata": {
        "id": "kVvlM8_qyCk9"
      },
      "source": [
        "lhs_ineq = [[ 2,  1],[-4,  5],[ 1, -2]]\n",
        "rhs_ineq = [20, 10, 2]"
      ],
      "execution_count": 8,
      "outputs": []
    },
    {
      "cell_type": "code",
      "metadata": {
        "id": "aVpCjq0PyKYf"
      },
      "source": [
        "lhs_eq = [[-1, 5]]\n",
        "rhs_eq = [15]"
      ],
      "execution_count": 9,
      "outputs": []
    },
    {
      "cell_type": "code",
      "metadata": {
        "id": "T0qGDKgJyO_N"
      },
      "source": [
        "bnd = [(0, float(\"inf\")), (0, float(\"inf\"))]  # Bounds of x & y"
      ],
      "execution_count": 10,
      "outputs": []
    },
    {
      "cell_type": "code",
      "metadata": {
        "id": "i8Hm_ALAyalb"
      },
      "source": [
        "opt = linprog(c=obj, A_ub=lhs_ineq, b_ub=rhs_ineq,\n",
        "...               A_eq=lhs_eq, b_eq=rhs_eq, bounds=bnd,\n",
        "...               method=\"revised simplex\")"
      ],
      "execution_count": 11,
      "outputs": []
    },
    {
      "cell_type": "code",
      "metadata": {
        "colab": {
          "base_uri": "https://localhost:8080/"
        },
        "id": "tyjsVIH4ydOq",
        "outputId": "e31abbeb-fba3-4b92-f23d-aabcac8e5112"
      },
      "source": [
        "opt"
      ],
      "execution_count": 12,
      "outputs": [
        {
          "output_type": "execute_result",
          "data": {
            "text/plain": [
              "     con: array([1.77635684e-15])\n",
              "     fun: -16.818181818181817\n",
              " message: 'Optimization terminated successfully.'\n",
              "     nit: 3\n",
              "   slack: array([ 0.        , 18.18181818,  3.36363636])\n",
              "  status: 0\n",
              " success: True\n",
              "       x: array([7.72727273, 4.54545455])"
            ]
          },
          "metadata": {
            "tags": []
          },
          "execution_count": 12
        }
      ]
    }
  ]
}