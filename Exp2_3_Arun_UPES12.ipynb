{
  "nbformat": 4,
  "nbformat_minor": 0,
  "metadata": {
    "colab": {
      "name": "Exp2_3_Arun_UPES12.ipynb",
      "provenance": [],
      "authorship_tag": "ABX9TyP3bGPkO/lAA3BTRYhw0OWe",
      "include_colab_link": true
    },
    "kernelspec": {
      "name": "python3",
      "display_name": "Python 3"
    },
    "language_info": {
      "name": "python"
    }
  },
  "cells": [
    {
      "cell_type": "markdown",
      "metadata": {
        "id": "view-in-github",
        "colab_type": "text"
      },
      "source": [
        "<a href=\"https://colab.research.google.com/github/aruntakhur/ConvexOptimization/blob/main/Exp2_3_Arun_UPES12.ipynb\" target=\"_parent\"><img src=\"https://colab.research.google.com/assets/colab-badge.svg\" alt=\"Open In Colab\"/></a>"
      ]
    },
    {
      "cell_type": "code",
      "metadata": {
        "id": "KrlLGH0ORzI8"
      },
      "source": [
        "from scipy.optimize import linprog"
      ],
      "execution_count": 1,
      "outputs": []
    },
    {
      "cell_type": "code",
      "metadata": {
        "id": "2k4bN-YESHlI"
      },
      "source": [
        "obj = [1,2]"
      ],
      "execution_count": 2,
      "outputs": []
    }
  ]
}